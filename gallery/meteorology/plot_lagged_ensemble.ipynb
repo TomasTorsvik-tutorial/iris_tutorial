{
  "cells": [
    {
      "cell_type": "code",
      "execution_count": null,
      "metadata": {
        "collapsed": false
      },
      "outputs": [],
      "source": [
        "%matplotlib inline"
      ]
    },
    {
      "cell_type": "markdown",
      "metadata": {},
      "source": [
        "\nSeasonal ensemble model plots\n=============================\n\nThis example demonstrates the loading of a lagged ensemble dataset from the\nGloSea4 model, which is then used to produce two types of plot:\n\n * The first shows the \"postage stamp\" style image with an array of 14 images,\n   one for each ensemble member with a shared colorbar. (The missing image in\n   this example represents ensemble member number 6 which was a failed run)\n\n * The second plot shows the data limited to a region of interest, in this case\n   a region defined for forecasting ENSO (El Nino-Southern Oscillation), which,\n   for the purposes of this example, has had the ensemble mean subtracted from\n   each ensemble member to give an anomaly surface temperature. In practice a\n   better approach would be to take the climatological mean, calibrated to the\n   model, from each ensemble member.\n"
      ]
    },
    {
      "cell_type": "code",
      "execution_count": null,
      "metadata": {
        "collapsed": false
      },
      "outputs": [],
      "source": [
        "import matplotlib.pyplot as plt\nimport numpy as np\n\nimport iris\nimport iris.plot as iplt\n\n\ndef realization_metadata(cube, field, fname):\n    \"\"\"\n    A function which modifies the cube's metadata to add a \"realization\"\n    (ensemble member) coordinate from the filename if one doesn't already exist\n    in the cube.\n\n    \"\"\"\n    # add an ensemble member coordinate if one doesn't already exist\n    if not cube.coords(\"realization\"):\n        # the ensemble member is encoded in the filename as *_???.pp where ???\n        # is the ensemble member\n        realization_number = fname[-6:-3]\n\n        import iris.coords\n\n        realization_coord = iris.coords.AuxCoord(\n            np.int32(realization_number), \"realization\"\n        )\n        cube.add_aux_coord(realization_coord)\n\n\ndef main():\n    # extract surface temperature cubes which have an ensemble member\n    # coordinate, adding appropriate lagged ensemble metadata\n    surface_temp = iris.load_cube(\n        iris.sample_data_path(\"GloSea4\", \"ensemble_???.pp\"),\n        iris.Constraint(\"surface_temperature\", realization=lambda value: True),\n        callback=realization_metadata,\n    )\n\n    # -------------------------------------------------------------------------\n    # Plot #1: Ensemble postage stamps\n    # -------------------------------------------------------------------------\n\n    # for the purposes of this example, take the last time element of the cube\n    last_timestep = surface_temp[:, -1, :, :]\n\n    # Make 50 evenly spaced levels which span the dataset\n    contour_levels = np.linspace(\n        np.min(last_timestep.data), np.max(last_timestep.data), 50\n    )\n\n    # Create a wider than normal figure to support our many plots\n    plt.figure(figsize=(12, 6), dpi=100)\n\n    # Also manually adjust the spacings which are used when creating subplots\n    plt.gcf().subplots_adjust(\n        hspace=0.05,\n        wspace=0.05,\n        top=0.95,\n        bottom=0.05,\n        left=0.075,\n        right=0.925,\n    )\n\n    # iterate over all possible latitude longitude slices\n    for cube in last_timestep.slices([\"latitude\", \"longitude\"]):\n\n        # get the ensemble member number from the ensemble coordinate\n        ens_member = cube.coord(\"realization\").points[0]\n\n        # plot the data in a 4x4 grid, with each plot's position in the grid\n        # being determined by ensemble member number the special case for the\n        # 13th ensemble member is to have the plot at the bottom right\n        if ens_member == 13:\n            plt.subplot(4, 4, 16)\n        else:\n            plt.subplot(4, 4, ens_member + 1)\n\n        cf = iplt.contourf(cube, contour_levels)\n\n        # add coastlines\n        plt.gca().coastlines()\n\n    # make an axes to put the shared colorbar in\n    colorbar_axes = plt.gcf().add_axes([0.35, 0.1, 0.3, 0.05])\n    colorbar = plt.colorbar(cf, colorbar_axes, orientation=\"horizontal\")\n    colorbar.set_label(\"%s\" % last_timestep.units)\n\n    # limit the colorbar to 8 tick marks\n    import matplotlib.ticker\n\n    colorbar.locator = matplotlib.ticker.MaxNLocator(8)\n    colorbar.update_ticks()\n\n    # get the time for the entire plot\n    time_coord = last_timestep.coord(\"time\")\n    time = time_coord.units.num2date(time_coord.bounds[0, 0])\n\n    # set a global title for the postage stamps with the date formated by\n    # \"monthname year\"\n    plt.suptitle(\n        \"Surface temperature ensemble forecasts for %s\"\n        % (time.strftime(\"%B %Y\"),)\n    )\n\n    iplt.show()\n\n    # -------------------------------------------------------------------------\n    # Plot #2: ENSO plumes\n    # -------------------------------------------------------------------------\n\n    # Nino 3.4 lies between: 170W and 120W, 5N and 5S, so define a constraint\n    # which matches this\n    nino_3_4_constraint = iris.Constraint(\n        longitude=lambda v: -170 + 360 <= v <= -120 + 360,\n        latitude=lambda v: -5 <= v <= 5,\n    )\n\n    nino_cube = surface_temp.extract(nino_3_4_constraint)\n\n    # Subsetting a circular longitude coordinate always results in a circular\n    # coordinate, so set the coordinate to be non-circular\n    nino_cube.coord(\"longitude\").circular = False\n\n    # Calculate the horizontal mean for the nino region\n    mean = nino_cube.collapsed([\"latitude\", \"longitude\"], iris.analysis.MEAN)\n\n    # Calculate the ensemble mean of the horizontal mean. To do this, remove\n    # the \"forecast_period\" and \"forecast_reference_time\" coordinates which\n    # span both \"relalization\" and \"time\".\n    mean.remove_coord(\"forecast_reference_time\")\n    mean.remove_coord(\"forecast_period\")\n    ensemble_mean = mean.collapsed(\"realization\", iris.analysis.MEAN)\n\n    # take the ensemble mean from each ensemble member\n    mean -= ensemble_mean.data\n\n    plt.figure()\n\n    for ensemble_member in mean.slices([\"time\"]):\n        # draw each ensemble member as a dashed line in black\n        iplt.plot(ensemble_member, \"--k\")\n\n    plt.title(\"Mean temperature anomaly for ENSO 3.4 region\")\n    plt.xlabel(\"Time\")\n    plt.ylabel(\"Temperature anomaly / K\")\n\n    iplt.show()\n\n\nif __name__ == \"__main__\":\n    main()"
      ]
    }
  ],
  "metadata": {
    "kernelspec": {
      "display_name": "Python 3",
      "language": "python",
      "name": "python3"
    },
    "language_info": {
      "codemirror_mode": {
        "name": "ipython",
        "version": 3
      },
      "file_extension": ".py",
      "mimetype": "text/x-python",
      "name": "python",
      "nbconvert_exporter": "python",
      "pygments_lexer": "ipython3",
      "version": "3.7.6"
    }
  },
  "nbformat": 4,
  "nbformat_minor": 0
}