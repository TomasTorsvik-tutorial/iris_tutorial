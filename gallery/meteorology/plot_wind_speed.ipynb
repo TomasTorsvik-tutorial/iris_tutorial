{
  "cells": [
    {
      "cell_type": "code",
      "execution_count": null,
      "metadata": {
        "collapsed": false
      },
      "outputs": [],
      "source": [
        "%matplotlib inline"
      ]
    },
    {
      "cell_type": "markdown",
      "metadata": {},
      "source": [
        "\nPlotting wind direction using quiver\n===========================================================\n\nThis example demonstrates using quiver to plot wind speed contours and wind\ndirection arrows from wind vector component input data. The vector components\nare co-located in space in this case.\n\nFor the second plot, the data used for the arrows is normalised to produce\narrows with a uniform size on the plot.\n"
      ]
    },
    {
      "cell_type": "code",
      "execution_count": null,
      "metadata": {
        "collapsed": false
      },
      "outputs": [],
      "source": [
        "import matplotlib.pyplot as plt\nimport numpy as np\n\nimport iris\nimport iris.coord_categorisation\nimport iris.quickplot as qplt\n\nimport cartopy.feature as cfeat\nimport cartopy.crs as ccrs\n\n\ndef main():\n    # Load the u and v components of wind from a pp file\n    infile = iris.sample_data_path(\"wind_speed_lake_victoria.pp\")\n\n    uwind = iris.load_cube(infile, \"x_wind\")\n    vwind = iris.load_cube(infile, \"y_wind\")\n\n    ulon = uwind.coord(\"longitude\")\n    vlon = vwind.coord(\"longitude\")\n\n    # The longitude points go from 180 to 540, so subtract 360 from them\n    ulon.points = ulon.points - 360.0\n    vlon.points = vlon.points - 360.0\n\n    # Create a cube containing the wind speed\n    windspeed = (uwind ** 2 + vwind ** 2) ** 0.5\n    windspeed.rename(\"windspeed\")\n\n    x = ulon.points\n    y = uwind.coord(\"latitude\").points\n    u = uwind.data\n    v = vwind.data\n\n    # Set up axes to show the lake\n    lakes = cfeat.NaturalEarthFeature(\n        \"physical\", \"lakes\", \"50m\", facecolor=\"none\"\n    )\n\n    plt.figure()\n    ax = plt.axes(projection=ccrs.PlateCarree())\n    ax.add_feature(lakes)\n\n    # Get the coordinate reference system used by the data\n    transform = ulon.coord_system.as_cartopy_projection()\n\n    # Plot the wind speed as a contour plot\n    qplt.contourf(windspeed, 20)\n\n    # Add arrows to show the wind vectors\n    plt.quiver(x, y, u, v, pivot=\"middle\", transform=transform)\n\n    plt.title(\"Wind speed over Lake Victoria\")\n    qplt.show()\n\n    # Normalise the data for uniform arrow size\n    u_norm = u / np.sqrt(u ** 2.0 + v ** 2.0)\n    v_norm = v / np.sqrt(u ** 2.0 + v ** 2.0)\n\n    plt.figure()\n    ax = plt.axes(projection=ccrs.PlateCarree())\n    ax.add_feature(lakes)\n\n    qplt.contourf(windspeed, 20)\n\n    plt.quiver(x, y, u_norm, v_norm, pivot=\"middle\", transform=transform)\n\n    plt.title(\"Wind speed over Lake Victoria\")\n    qplt.show()\n\n\nif __name__ == \"__main__\":\n    main()"
      ]
    }
  ],
  "metadata": {
    "kernelspec": {
      "display_name": "Python 3",
      "language": "python",
      "name": "python3"
    },
    "language_info": {
      "codemirror_mode": {
        "name": "ipython",
        "version": 3
      },
      "file_extension": ".py",
      "mimetype": "text/x-python",
      "name": "python",
      "nbconvert_exporter": "python",
      "pygments_lexer": "ipython3",
      "version": "3.7.6"
    }
  },
  "nbformat": 4,
  "nbformat_minor": 0
}